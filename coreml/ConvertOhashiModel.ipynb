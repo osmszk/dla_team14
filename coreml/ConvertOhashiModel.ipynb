{
 "cells": [
  {
   "cell_type": "code",
   "execution_count": 2,
   "metadata": {},
   "outputs": [
    {
     "name": "stdout",
     "output_type": "stream",
     "text": [
      "0 : conv1_input, <keras.engine.topology.InputLayer object at 0x12da15550>\n",
      "1 : conv1, <keras.layers.convolutional.Conv2D object at 0x12da15590>\n",
      "2 : activation_1, <keras.layers.core.Activation object at 0x12da16f10>\n",
      "3 : conv2, <keras.layers.convolutional.Conv2D object at 0x12da16a10>\n",
      "4 : batch_normalization_1, <keras.layers.normalization.BatchNormalization object at 0x12db2ad50>\n",
      "5 : activation_2, <keras.layers.core.Activation object at 0x12d9dbc10>\n",
      "6 : max_pooling2d_1, <keras.layers.pooling.MaxPooling2D object at 0x12da158d0>\n",
      "7 : conv3, <keras.layers.convolutional.Conv2D object at 0x11060e8d0>\n",
      "8 : activation_3, <keras.layers.core.Activation object at 0x11085ebd0>\n",
      "9 : batch_normalization_2, <keras.layers.normalization.BatchNormalization object at 0x1108b7d50>\n",
      "10 : conv4, <keras.layers.convolutional.Conv2D object at 0x12d899310>\n",
      "11 : activation_4, <keras.layers.core.Activation object at 0x12d7c7b90>\n",
      "12 : max_pooling2d_2, <keras.layers.pooling.MaxPooling2D object at 0x12d785ad0>\n",
      "13 : flatten_1, <keras.layers.core.Flatten object at 0x12da94210>\n",
      "14 : dense1, <keras.layers.core.Dense object at 0x12da77150>\n",
      "15 : activation_5, <keras.layers.core.Activation object at 0x12e01d690>\n",
      "16 : batch_normalization_3, <keras.layers.normalization.BatchNormalization object at 0x12dac93d0>\n",
      "17 : dense2, <keras.layers.core.Dense object at 0x12e00e5d0>\n",
      "18 : activation_6, <keras.layers.core.Activation object at 0x12e135690>\n"
     ]
    }
   ],
   "source": [
    "path = './model/MemberOhashiModel.h5'\n",
    "\n",
    "import coremltools\n",
    "# import keras\n",
    "# model = keras.models.load_model(path)\n",
    "coreml_model = coremltools.converters.keras.convert(path,\n",
    "        input_names = 'image',\n",
    "        image_input_names = 'image',\n",
    "        is_bgr = True,\n",
    "        image_scale = 0.00392156863,\n",
    "        class_labels = 'labels.txt')\n",
    "\n",
    "coreml_model.save('MemberOhashiPredict.mlmodel')"
   ]
  },
  {
   "cell_type": "code",
   "execution_count": null,
   "metadata": {},
   "outputs": [],
   "source": []
  }
 ],
 "metadata": {
  "kernelspec": {
   "display_name": "Python 2",
   "language": "python",
   "name": "python2"
  },
  "language_info": {
   "codemirror_mode": {
    "name": "ipython",
    "version": 2
   },
   "file_extension": ".py",
   "mimetype": "text/x-python",
   "name": "python",
   "nbconvert_exporter": "python",
   "pygments_lexer": "ipython2",
   "version": "2.7.10"
  }
 },
 "nbformat": 4,
 "nbformat_minor": 2
}
