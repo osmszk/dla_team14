{
 "cells": [
  {
   "cell_type": "code",
   "execution_count": 35,
   "metadata": {
    "collapsed": true
   },
   "outputs": [],
   "source": [
    "import numpy as np\n",
    "import tensorflow as tf\n",
    "import os\n",
    "import pickle\n",
    "import matplotlib.pyplot as plt\n",
    "from scipy import misc\n",
    "from scipy.spatial import distance\n",
    "\n",
    "%matplotlib inline"
   ]
  },
  {
   "cell_type": "markdown",
   "metadata": {},
   "source": [
    "# facenetのダウンロード\n",
    "- https://github.com/davidsandberg/facenet\n",
    "- クローンしたパスをfacenet_pathに\n",
    "- tensorflowのversionは1.2が必要\n",
    "\n",
    "# 訓練済みのモデルのダウンロード\n",
    "- [MS-Celeb-1Mで訓練したモデル](https://drive.google.com/file/d/0B5MzpY9kBtDVOTVnU3NIaUdySFE/edit)\n",
    "- ダウンロードしたパスをmodelに"
   ]
  },
  {
   "cell_type": "code",
   "execution_count": 36,
   "metadata": {
    "collapsed": true
   },
   "outputs": [],
   "source": [
    "facenet_path = '../../facenet/'\n",
    "model = facenet_path + 'model/20170511-185253'\n",
    "image_dir_basepath = './'"
   ]
  },
  {
   "cell_type": "code",
   "execution_count": 37,
   "metadata": {
    "collapsed": true
   },
   "outputs": [],
   "source": [
    "import sys\n",
    "sys.path.append(facenet_path + 'src/')\n",
    "import facenet\n",
    "import align.detect_face\n",
    "\n",
    "from PIL import Image"
   ]
  },
  {
   "cell_type": "markdown",
   "metadata": {},
   "source": [
    "# 顔検出"
   ]
  },
  {
   "cell_type": "code",
   "execution_count": 38,
   "metadata": {
    "collapsed": true
   },
   "outputs": [],
   "source": [
    "image_size = 160\n",
    "margin = 44\n",
    "batch_size = 1000"
   ]
  },
  {
   "cell_type": "code",
   "execution_count": 46,
   "metadata": {
    "collapsed": false
   },
   "outputs": [],
   "source": [
    "talents = ['takemoto','taniai', 'suzuki']\n",
    "\n",
    "for talent in talents:\n",
    "    \n",
    "    dir_name = 'images_{}/'.format(talent)\n",
    "    image_dirpath = os.path.abspath(image_dir_basepath + dir_name)\n",
    "    image_filepaths = [os.path.join(image_dirpath, f) for f in os.listdir(image_dirpath) if not f == '.DS_Store']\n",
    "\n",
    "    image_out_dirpath = './cropped_images_{}/'.format(talent)\n",
    "    if not os.path.exists(image_out_dirpath):\n",
    "            os.mkdir(image_out_dirpath)\n",
    "\n",
    "    for image_filepath in image_filepaths:\n",
    "        extracted_filepaths = []\n",
    "        minsize = 20\n",
    "        threshold = [0.6, 0.7, 0.7]\n",
    "        factor = 0.709\n",
    "\n",
    "        with tf.Graph().as_default():\n",
    "            with tf.Session() as sess:\n",
    "                pnet, rnet, onet = align.detect_face.create_mtcnn(sess, None)\n",
    "                img = misc.imread(image_filepath)\n",
    "                out_file_name = \"crop_\" + os.path.basename(image_filepath)\n",
    "                img_size = np.array(img.shape)[0:2]\n",
    "                bounding_boxes, _ = align.detect_face.detect_face(img, minsize, pnet, rnet, onet,\n",
    "                                                                  threshold, factor)\n",
    "                det = bounding_boxes[0, :4]\n",
    "                bb = np.zeros(4, dtype=np.int32)\n",
    "                bb[0] = np.maximum(det[0]-margin/2, 0)\n",
    "                bb[1] = np.maximum(det[1]-margin/2, 0)\n",
    "                bb[2] = np.minimum(det[2]+margin/2, img_size[1])\n",
    "                bb[3] = np.minimum(det[3]+margin/2, img_size[0])\n",
    "                cropped = img[bb[1]:bb[3],bb[0]:bb[2],:]\n",
    "                aligned = misc.imresize(cropped, (image_size, image_size), interp='bilinear')\n",
    "\n",
    "                img = Image.fromarray(np.uint8(aligned))\n",
    "                img.save(os.path.join(image_out_dirpath,out_file_name))\n",
    "\n",
    "                #test (try only on one image)\n",
    "                # plt.figure(figsize=(20, 10))\n",
    "                # plt.subplot(1,3,1)\n",
    "                # plt.imshow(img)\n",
    "                # plt.subplot(1,3,2)\n",
    "                # plt.imshow(cropped)\n",
    "                # plt.subplot(1,3,3)\n",
    "                # plt.imshow(aligned)"
   ]
  },
  {
   "cell_type": "markdown",
   "metadata": {},
   "source": []
  }
 ],
 "metadata": {
  "kernelspec": {
   "display_name": "Python 3",
   "language": "python",
   "name": "python3"
  },
  "language_info": {
   "codemirror_mode": {
    "name": "ipython",
    "version": 3
   },
   "file_extension": ".py",
   "mimetype": "text/x-python",
   "name": "python",
   "nbconvert_exporter": "python",
   "pygments_lexer": "ipython3",
   "version": "3.6.0"
  }
 },
 "nbformat": 4,
 "nbformat_minor": 2
}
