{
 "cells": [
  {
   "cell_type": "code",
   "execution_count": 35,
   "metadata": {
    "collapsed": true
   },
   "outputs": [],
   "source": [
    "import numpy as np\n",
    "import tensorflow as tf\n",
    "import os\n",
    "import pickle\n",
    "import matplotlib.pyplot as plt\n",
    "from scipy import misc\n",
    "from scipy.spatial import distance\n",
    "\n",
    "%matplotlib inline"
   ]
  },
  {
   "cell_type": "markdown",
   "metadata": {},
   "source": [
    "# facenetのダウンロード\n",
    "- https://github.com/davidsandberg/facenet\n",
    "- クローンしたパスをfacenet_pathに\n",
    "- tensorflowのversionは1.2が必要\n",
    "\n",
    "# 訓練済みのモデルのダウンロード\n",
    "- [MS-Celeb-1Mで訓練したモデル](https://drive.google.com/file/d/0B5MzpY9kBtDVOTVnU3NIaUdySFE/edit)\n",
    "- ダウンロードしたパスをmodelに"
   ]
  },
  {
   "cell_type": "code",
   "execution_count": 36,
   "metadata": {
    "collapsed": true
   },
   "outputs": [],
   "source": [
    "facenet_path = '../../facenet/'\n",
    "model = facenet_path + 'model/20170511-185253'\n",
    "image_dir_basepath = './'"
   ]
  },
  {
   "cell_type": "code",
   "execution_count": 37,
   "metadata": {
    "collapsed": true
   },
   "outputs": [],
   "source": [
    "import sys\n",
    "sys.path.append(facenet_path + 'src/')\n",
    "import facenet\n",
    "import align.detect_face\n",
    "\n",
    "from PIL import Image"
   ]
  },
  {
   "cell_type": "markdown",
   "metadata": {},
   "source": [
    "# 顔抽出のテスト"
   ]
  },
  {
   "cell_type": "code",
   "execution_count": 38,
   "metadata": {
    "collapsed": true
   },
   "outputs": [],
   "source": [
    "image_size = 160\n",
    "margin = 44\n",
    "batch_size = 1000"
   ]
  },
  {
   "cell_type": "code",
   "execution_count": 46,
   "metadata": {
    "collapsed": false
   },
   "outputs": [],
   "source": [
    "talents = ['takemoto','taniai', 'suzuki']\n",
    "\n",
    "for talent in talents:\n",
    "    \n",
    "    dir_name = 'images_{}/'.format(talent)\n",
    "    image_dirpath = os.path.abspath(image_dir_basepath + dir_name)\n",
    "    image_filepaths = [os.path.join(image_dirpath, f) for f in os.listdir(image_dirpath) if not f == '.DS_Store']\n",
    "\n",
    "    image_out_dirpath = './cropped_images_{}/'.format(talent)\n",
    "    if not os.path.exists(image_out_dirpath):\n",
    "            os.mkdir(image_out_dirpath)\n",
    "\n",
    "    for image_filepath in image_filepaths:\n",
    "        extracted_filepaths = []\n",
    "        minsize = 20\n",
    "        threshold = [0.6, 0.7, 0.7]\n",
    "        factor = 0.709\n",
    "\n",
    "        with tf.Graph().as_default():\n",
    "            with tf.Session() as sess:\n",
    "                pnet, rnet, onet = align.detect_face.create_mtcnn(sess, None)\n",
    "                img = misc.imread(image_filepath)\n",
    "                out_file_name = \"crop_\" + os.path.basename(image_filepath)\n",
    "                img_size = np.array(img.shape)[0:2]\n",
    "                bounding_boxes, _ = align.detect_face.detect_face(img, minsize, pnet, rnet, onet,\n",
    "                                                                  threshold, factor)\n",
    "                det = bounding_boxes[0, :4]\n",
    "                bb = np.zeros(4, dtype=np.int32)\n",
    "                bb[0] = np.maximum(det[0]-margin/2, 0)\n",
    "                bb[1] = np.maximum(det[1]-margin/2, 0)\n",
    "                bb[2] = np.minimum(det[2]+margin/2, img_size[1])\n",
    "                bb[3] = np.minimum(det[3]+margin/2, img_size[0])\n",
    "                cropped = img[bb[1]:bb[3],bb[0]:bb[2],:]\n",
    "                aligned = misc.imresize(cropped, (image_size, image_size), interp='bilinear')\n",
    "\n",
    "                img = Image.fromarray(np.uint8(aligned))\n",
    "                img.save(os.path.join(image_out_dirpath,out_file_name))\n",
    "\n",
    "                #test (try only on one image)\n",
    "                # plt.figure(figsize=(20, 10))\n",
    "                # plt.subplot(1,3,1)\n",
    "                # plt.imshow(img)\n",
    "                # plt.subplot(1,3,2)\n",
    "                # plt.imshow(cropped)\n",
    "                # plt.subplot(1,3,3)\n",
    "                # plt.imshow(aligned)"
   ]
  },
  {
   "cell_type": "code",
   "execution_count": 45,
   "metadata": {
    "collapsed": false
   },
   "outputs": [
    {
     "name": "stdout",
     "output_type": "stream",
     "text": [
      "['capture6234841129-143213.png', 'capture0968451129-143214.png', 'capture7888541129-143212.png', 'capture8894331129-143237.png', 'capture3012351129-143243.png', 'capture3719151129-143220.png', 'capture7875971129-143232.png', 'capture7354011129-143219.png', 'capture9279221129-143214.png', 'capture3888231129-143212.png', 'capture7685291129-143219.png', 'capture9233571129-143211.png', 'capture1367521129-143220.png', 'capture2085381129-143224.png', 'capture8482191129-143228.png', 'capture7008401129-143242.png', 'capture2922601129-143236.png', 'capture6054061129-143223.png', 'capture5229921129-143232.png', 'capture6454371129-143226.png', 'capture8007411129-143219.png', 'capture5974761129-143216.png', 'capture2521681129-143233.png', 'capture9842111129-143229.png', 'capture9964741129-143238.png', 'capture3878631129-143211.png', 'capture7720591129-143220.png', 'capture4812511129-143230.png', 'capture1554161129-143235.png', 'capture0709011129-143220.png', 'capture8644501129-143239.png', 'capture1298141129-143238.png', 'capture3687841129-143221.png', 'capture8963521129-143239.png', 'capture0610051129-143237.png', 'capture9326401129-143218.png', 'capture9634001129-143241.png', 'capture7540481129-143210.png', 'capture1006511129-143243.png', 'capture8890771129-143212.png', 'capture3304611129-143241.png', 'capture5882001129-143234.png', 'capture6736971129-143223.png', 'capture7457611129-143227.png', 'capture9989681129-143217.png', 'capture7057581129-143223.png', 'capture2597021129-143237.png', 'capture7531821129-143232.png', 'capture9891231129-143234.png', 'capture4272341129-143213.png', 'capture4104591129-143222.png', 'capture3927591129-143238.png', 'capture8956491129-143214.png', 'capture6565191129-143234.png', 'capture7271951129-143239.png', 'capture8561211129-143211.png', 'capture2646861129-143217.png', 'capture6925731129-143211.png', 'capture9282121129-143239.png', 'capture9627751129-143238.png', 'capture1982941129-143217.png', 'capture6212731129-143234.png', 'capture4683921129-143242.png', 'capture1672281129-143240.png', 'capture6631761129-143240.png', 'capture3239151129-143234.png', 'capture3800541129-143229.png', 'capture7779691129-143226.png', 'capture4413191129-143223.png', 'capture3196741129-143211.png', 'capture8673411129-143218.png', 'capture4835471129-143228.png', 'capture9489041129-143228.png', 'capture4627711129-143214.png', 'capture0938131129-143237.png', 'capture5919261129-143210.png', 'capture2567761129-143212.png', 'capture9566761129-143213.png', 'capture8615311129-143216.png', 'capture5312591129-143241.png', 'capture5712141129-143220.png', 'capture1771241129-143226.png', 'capture8867371129-143235.png', 'capture1393951129-143221.png', 'capture1558901129-143212.png', 'capture9727051129-143224.png', 'capture4503851129-143228.png', 'capture8122611129-143230.png', 'capture3089981129-143224.png', 'capture0629591129-143242.png', 'capture3313801129-143215.png', 'capture3020821129-143218.png', 'capture9379111129-143217.png', 'capture6388071129-143225.png', 'capture5272711129-143235.png', 'capture7109971129-143225.png', 'capture8893771129-143233.png', 'capture0227491129-143212.png', 'capture5307501129-143219.png', 'capture9665431129-143214.png', 'capture3180621129-143230.png', 'capture1640371129-143215.png', 'capture3387781129-143222.png', 'capture2801811129-143230.png', 'capture6966471129-143239.png', 'capture6846501129-143232.png', 'capture9934361129-143236.png', 'capture5580021129-143211.png', 'capture9428171129-143225.png', 'capture8708921129-143220.png', 'capture8152801129-143227.png', 'capture9535511129-143210.png', 'capture9390541129-143220.png', 'capture2632501129-143241.png', 'capture0649061129-143216.png', 'capture7888411129-143210.png', 'capture8772081129-143225.png', 'capture4381361129-143220.png', 'capture2290351129-143238.png', 'capture4327231129-143219.png', 'capture1318551129-143242.png', 'capture8641241129-143214.png', 'capture9161221129-143231.png', 'capture5574791129-143234.png', 'capture7417051129-143225.png', 'capture8253821129-143237.png', 'capture8430491129-143225.png', 'capture1634431129-143238.png', 'capture6003301129-143242.png', 'capture7596501129-143216.png', 'capture7721371129-143223.png', 'capture0283761129-143214.png', 'capture7501211129-143228.png', 'capture3975821129-143215.png', 'capture6327101129-143215.png', 'capture4641911129-143240.png', 'capture7295301129-143215.png', 'capture5053501129-143222.png', 'capture8930611129-143210.png', 'capture3208061129-143233.png', 'capture0325981129-143242.png', 'capture8283981129-143214.png', 'capture5722061129-143242.png', 'capture4951091129-143213.png', 'capture0439611129-143227.png', 'capture0875231129-143212.png', 'capture7587161129-143235.png', 'capture0280451129-143238.png', 'capture3465481129-143226.png', 'capture3506091129-143229.png', 'capture7966371129-143239.png', 'capture4678071129-143217.png', 'capture6688071129-143242.png', 'capture8445241129-143227.png', 'capture1973121129-143218.png', 'capture3808601129-143228.png', 'capture7467151129-143221.png', 'capture8544871129-143233.png', 'capture9097171129-143224.png', 'capture9522501129-143231.png', 'capture2906331129-143238.png', 'capture5891011129-143212.png', 'capture9615181129-143236.png', 'capture8437191129-143226.png', 'capture6177251129-143229.png', 'capture9361741129-143219.png', 'capture1181041129-143232.png', 'capture4914051129-143238.png', 'capture9254031129-143213.png', 'capture8578311129-143235.png', 'capture5284291129-143239.png', 'capture0023231129-143221.png', 'capture3141191129-143229.png', 'capture7274731129-143213.png', 'capture2798821129-143210.png', 'capture5003561129-143219.png', 'capture8545961129-143232.png', 'capture2506951129-143229.png', 'capture5413961129-143220.png', 'capture2619781129-143213.png', 'capture2359401129-143218.png', 'capture0228041129-143237.png', 'capture1272121129-143236.png', 'capture5232121129-143234.png', 'capture6935371129-143233.png', 'capture1502711129-143229.png', 'capture8011171129-143241.png', 'capture5286181129-143238.png', 'capture1029151129-143217.png', 'capture6089751129-143226.png', 'capture0989091129-143216.png', 'capture1031791129-143219.png', 'capture2762991129-143221.png', 'capture6898751129-143234.png', 'capture5415321129-143223.png', 'capture0633131129-143238.png', 'capture3497721129-143210.png', 'capture2986151129-143217.png', 'capture8572951129-143213.png', 'capture4576241129-143236.png', 'capture8686661129-143219.png', 'capture4736171129-143222.png', 'capture1919631129-143234.png', 'capture2863271129-143231.png', 'capture0309661129-143216.png', 'capture4118891129-143226.png', 'capture4314851129-143241.png', 'capture4782571129-143221.png', 'capture3273401129-143214.png', 'capture0237411129-143213.png', 'capture9915381129-143237.png', 'capture4382731129-143218.png', 'capture4101541129-143225.png', 'capture5318921129-143217.png', 'capture7886931129-143237.png', 'capture0898401129-143211.png', 'capture5006441129-143241.png', 'capture5876661129-143211.png', 'capture2556001129-143211.png', 'capture6791201129-143229.png', 'capture8029391129-143222.png', 'capture7276211129-143238.png', 'capture9973701129-143241.png', 'capture3552281129-143235.png', 'capture5003561129-143218.png', 'capture2649941129-143216.png', 'capture0768081129-143225.png', 'capture1827921129-143228.png', 'capture7625491129-143215.png', 'capture6322231129-143242.png', 'capture2023551129-143220.png', 'capture1321171129-143241.png', 'capture8333321129-143222.png', 'capture0067301129-143226.png', 'capture5802191129-143228.png', 'capture5931951129-143213.png', 'capture9253141129-143237.png', 'capture8249461129-143213.png', 'capture0562201129-143234.png', 'capture3526211129-143233.png', 'capture1691381129-143221.png', 'capture3954711129-143239.png', 'capture0579261129-143236.png', 'capture1054671129-143220.png', 'capture4730361129-143224.png', 'capture5616981129-143238.png', 'capture0700581129-143221.png', 'capture3644011129-143219.png', 'capture6886611129-143235.png', 'capture0451111129-143228.png', 'capture1189141129-143212.png', 'capture5126231129-143229.png', 'capture0248051129-143233.png', 'capture4656561129-143241.png', 'capture4171841129-143228.png', 'capture9254201129-143235.png', 'capture5617011129-143214.png', 'capture2201791129-143212.png', 'capture7362271129-143240.png', 'capture5195431129-143211.png', 'capture3820901129-143230.png', 'capture2099951129-143226.png', 'capture3559721129-143212.png', 'capture5989691129-143217.png', 'capture9706141129-143219.png', 'capture1503351129-143230.png', 'capture2878471129-143233.png', 'capture8920941129-143215.png', 'capture9005841129-143218.png', 'capture5960191129-143215.png', 'capture5670221129-143217.png', 'capture2655091129-143240.png', 'capture6531091129-143221.png', 'capture2138451129-143228.png', 'capture9279351129-143238.png', 'capture9955931129-143239.png', 'capture0898811129-143234.png', 'capture5265041129-143214.png', 'capture7007911129-143215.png', 'capture2024981129-143243.png', 'capture6285321129-143238.png', 'capture3433911129-143223.png', 'capture9825991129-143230.png', 'capture2388681129-143221.png', 'capture9834861129-143227.png', 'capture7722881129-143224.png', 'capture7431441129-143223.png', 'capture7264001129-143214.png', 'capture5882671129-143221.png', 'capture0218041129-143235.png', 'capture1330991129-143243.png', 'capture4301291129-143215.png', 'capture2252441129-143213.png', 'capture5082921129-143224.png', 'capture3319061129-143217.png', 'capture9514971129-143233.png', 'capture3874981129-143235.png', 'capture3896911129-143234.png', 'capture9375881129-143222.png', 'capture6559831129-143211.png', 'capture8100581129-143225.png', 'capture6016281129-143220.png', 'capture4389701129-143221.png', 'capture3170771129-143210.png', 'capture5569451129-143236.png', 'capture4383991129-143222.png', 'capture2633181129-143215.png', 'capture7034851129-143240.png', 'capture7995371129-143216.png', 'capture1887331129-143213.png', 'capture7573361129-143234.png', 'capture3717841129-143242.png', 'capture6802391129-143221.png', 'capture8538651129-143210.png', 'capture6309801129-143216.png', 'capture7202291129-143211.png', 'capture1944351129-143237.png', 'capture6411481129-143223.png', 'capture7450321129-143226.png', 'capture8189191129-143229.png', 'capture8250791129-143212.png', 'capture5412731129-143224.png', 'capture9958151129-143240.png', 'capture3261401129-143237.png', 'capture4901391129-143233.png', 'capture2682101129-143218.png', 'capture7648701129-143239.png', 'capture0547281129-143232.png', 'capture7119771129-143227.png', 'capture5000361129-143216.png', 'capture3277451129-143238.png', 'capture4580951129-143213.png', 'capture3853591129-143232.png', 'capture5187221129-143230.png', 'capture0323641129-143217.png', 'capture4566881129-143212.png', 'capture1253051129-143235.png', 'capture7380401129-143218.png', 'capture1061681129-143223.png', 'capture1258831129-143237.png', 'capture6588931129-143236.png', 'capture5750591129-143222.png', 'capture9288951129-143215.png', 'capture3491461129-143228.png', 'capture0255001129-143215.png', 'capture3571801129-143236.png', 'capture2341951129-143220.png', 'capture4234701129-143212.png', 'capture0952001129-143241.png', 'capture9681231129-143242.png', 'capture2563521129-143235.png', 'capture0983361129-143240.png', 'capture1943201129-143238.png', 'capture9955711129-143213.png', 'capture4979991129-143240.png', 'capture7153041129-143231.png', 'capture9728621129-143223.png', 'capture2600421129-143238.png', 'capture3666881129-143213.png', 'capture0465351129-143226.png', 'capture9757981129-143225.png', 'capture7279691129-143236.png', 'capture6422871129-143224.png', 'capture8975431129-143242.png', 'capture5884591129-143235.png', 'capture1813591129-143230.png', 'capture7893811129-143235.png', 'capture3205941129-143212.png', 'capture0286531129-143240.png', 'capture3612611129-143239.png', 'capture0348461129-143218.png', 'capture8876411129-143234.png', 'capture6651151129-143241.png', 'capture8413971129-143223.png', 'capture1656721129-143214.png', 'capture4274801129-143239.png', 'capture9468781129-143230.png', 'capture5882901129-143233.png', 'capture9995021129-143242.png', 'capture1070951129-143225.png', 'capture8263911129-143236.png', 'capture7423991129-143224.png', 'capture4568311129-143235.png', 'capture8362941129-143217.png', 'capture5660781129-143241.png', 'capture4960911129-143214.png', 'capture7401241129-143220.png', 'capture7660061129-143240.png', 'capture4652411129-143219.png', 'capture1667991129-143217.png', 'capture2391351129-143222.png', 'capture7939341129-143214.png', 'capture4883061129-143235.png', 'capture3163271129-143228.png', 'capture2768981129-143225.png', 'capture8968271129-143216.png', 'capture1741531129-143223.png', 'capture3027531129-143242.png', 'capture7304651129-143242.png', 'capture3039231129-143219.png', 'capture2195081129-143231.png', 'capture6960161129-143213.png', 'capture7832341129-143231.png', 'capture3338341129-143219.png', 'capture5001051129-143242.png', 'capture6352341129-143218.png', 'capture9412921129-143224.png', 'capture4862291129-143231.png', 'capture1121741129-143228.png', 'capture7213401129-143229.png', 'capture5739151129-143223.png', 'capture6216711129-143233.png', 'capture6916031129-143237.png', 'capture8215961129-143210.png', 'capture3409671129-143224.png', 'capture4927841129-143236.png', 'capture9531991129-143234.png', 'capture6964611129-143238.png', 'capture9215371129-143233.png', 'capture0621341129-143214.png', 'capture1347481129-143219.png', 'capture8310921129-143219.png', 'capture3639241129-143240.png', 'capture0776081129-143226.png', 'capture6220001129-143210.png', 'capture4773721129-143226.png', 'capture9839481129-143231.png', 'capture8707671129-143224.png', 'capture2790711129-143226.png', 'capture9144951129-143228.png', 'capture0045931129-143223.png', 'capture5672241129-143240.png', 'capture1956941129-143241.png', 'capture3648761129-143216.png', 'capture1540771129-143234.png', 'capture1540931129-143232.png', 'capture6629861129-143216.png', 'capture1001191129-143242.png', 'capture4043471129-143223.png', 'capture8769851129-143226.png', 'capture8982461129-143240.png', 'capture9679251129-143221.png', 'capture2318351129-143241.png', 'capture6782551129-143226.png', 'capture0345741129-143243.png', 'capture8323691129-143215.png', 'capture5273201129-143213.png', 'capture4598931129-143234.png', 'capture1960901129-143215.png', 'capture1894881129-143211.png', 'capture9025011129-143220.png', 'capture1415241129-143225.png', 'capture8608171129-143215.png', 'capture6642901129-143239.png', 'capture0394461129-143222.png', 'capture5092701129-143226.png', 'capture7982591129-143242.png', 'capture3354611129-143218.png', 'capture4606691129-143215.png', 'capture3166901129-143231.png', 'capture7141141129-143228.png', 'capture2691201129-143243.png', 'capture3735321129-143222.png', 'capture6162971129-143230.png', 'capture4779791129-143225.png', 'capture1568851129-143213.png', 'capture6671651129-143218.png', 'capture4301271129-143216.png', 'capture2280161129-143235.png', 'capture8064851129-143220.png', 'capture2058471129-143223.png', 'capture7626651129-143214.png', 'capture8024031129-143218.png', 'capture4619731129-143216.png', 'capture8394291129-143220.png', 'capture8532461129-143234.png', 'capture9723121129-143222.png', 'capture0413891129-143223.png', 'capture9250881129-143212.png', 'capture0675871129-143219.png', 'capture1859541129-143232.png', 'capture9573801129-143212.png', 'capture4877661129-143211.png', 'capture9879611129-143210.png', 'capture2811251129-143228.png', 'capture0809251129-143230.png', 'capture2715311129-143222.png', 'capture8498411129-143231.png', 'capture1610631129-143236.png', 'capture3492461129-143230.png', 'capture0692791129-143243.png', 'capture0581301129-143233.png', 'capture5163351129-143221.png', 'capture6529571129-143210.png', 'capture2332541129-143216.png', 'capture8203341129-143234.png', 'capture1992371129-143216.png', 'capture7783771129-143227.png', 'capture3644241129-143241.png', 'capture7129421129-143241.png', 'capture8824581129-143230.png', 'capture4735811129-143223.png', 'capture8685881129-143221.png', 'capture0574231129-143235.png', 'capture3519541129-143211.png', 'capture6571801129-143213.png', 'capture5229371129-143233.png', 'capture6603561129-143212.png', 'capture2932341129-143237.png', 'capture8413481129-143224.png', 'capture3287081129-143240.png', 'capture8150651129-143231.png', 'capture1647011129-143219.png', 'capture6981101129-143214.png', 'capture0566271129-143212.png', 'capture5381921129-143222.png', 'capture0682251129-143218.png', 'capture4838411129-143229.png', 'capture5175171129-143231.png', 'capture1920111129-143236.png', 'capture0126691129-143228.png', 'capture7158301129-143221.png', 'capture8365501129-143218.png', 'capture5573671129-143221.png', 'capture8827431129-143228.png', 'capture5485221129-143230.png', 'capture2556821129-143236.png', 'capture8295501129-143241.png', 'capture6104171129-143224.png', 'capture2293071129-143240.png', 'capture5048661129-143220.png', 'capture9077751129-143223.png', 'capture0348111129-143219.png', 'capture2667831129-143219.png', 'capture1173291129-143230.png', 'capture2125601129-143225.png', 'capture8273751129-143238.png', 'capture8325491129-143240.png', 'capture7667381129-143217.png', 'capture9678591129-143216.png', 'capture6051321129-143222.png', 'capture0252261129-143236.png', 'capture6619231129-143215.png', 'capture3876061129-143233.png', 'capture0182011129-143230.png', 'capture6510561129-143233.png', 'capture8448401129-143230.png', 'capture4207031129-143211.png', 'capture4589101129-143239.png', 'capture9967641129-143214.png', 'capture6457931129-143228.png', 'capture3975961129-143240.png', 'capture2279021129-143214.png', 'capture3619491129-143215.png', 'capture0192761129-143231.png', 'capture5741041129-143224.png', 'capture3487891129-143231.png', 'capture1009881129-143221.png', 'capture3974921129-143241.png', 'capture3755981129-143223.png', 'capture2845361129-143232.png', 'capture1546241129-143211.png', 'capture0391921129-143221.png', 'capture2982381129-143213.png', 'capture1880801129-143235.png', 'capture1738241129-143222.png', 'capture4009621129-143219.png', 'capture8821401129-143231.png', 'capture3361261129-143243.png', 'capture5966071129-143239.png', 'capture7257251129-143235.png', 'capture6232851129-143212.png', 'capture7565771129-143212.png', 'capture2954561129-143239.png', 'capture1600141129-143239.png', 'capture2305801129-143215.png', 'capture7733251129-143221.png', 'capture4288001129-143240.png', 'capture5498511129-143229.png', 'capture4914591129-143212.png', 'capture0952681129-143215.png', 'capture8081111129-143226.png', 'capture2725891129-143223.png', 'capture7579641129-143236.png', 'capture6829781129-143231.png', 'capture9570291129-143235.png', 'capture4978821129-143239.png', 'capture6516731129-143231.png', 'capture9017501129-143217.png', 'capture1973611129-143239.png', 'capture4431951129-143225.png', 'capture5523101129-143233.png', 'capture0125301129-143229.png', 'capture0154971129-143232.png', 'capture4507351129-143210.png', 'capture3421871129-143225.png', 'capture2133701129-143229.png', 'capture4018901129-143218.png', 'capture5599901129-143213.png', 'capture4586751129-143211.png', 'capture6638551129-143214.png', 'capture7021751129-143216.png', 'capture5540941129-143210.png', 'capture0004191129-143217.png', 'capture7456411129-143230.png', 'capture7110401129-143217.png', 'capture5323581129-143215.png', 'capture2480341129-143226.png', 'capture5589821129-143216.png', 'capture0512911129-143230.png', 'capture2224501129-143211.png', 'capture5945971129-143236.png', 'capture6515961129-143229.png', 'capture7199621129-143234.png', 'capture4207371129-143232.png', 'capture2572811129-143234.png', 'capture0628801129-143241.png', 'capture4512991129-143232.png', 'capture7276031129-143216.png', 'capture9905801129-143233.png', 'capture2073621129-143219.png', 'capture1990941129-143214.png', 'capture2944581129-143214.png', 'capture5205291129-143210.png', 'capture1236551129-143234.png', 'capture8654271129-143240.png', 'capture4518351129-143229.png', 'capture9592011129-143215.png', 'capture1046861129-143222.png', 'capture1714001129-143220.png', 'capture8002241129-143217.png', 'capture9183781129-143234.png', 'capture8500601129-143229.png', 'capture6327631129-143219.png', 'capture6727371129-143224.png', 'capture7041341129-143219.png', 'capture4219501129-143233.png', 'capture1329061129-143240.png', 'capture2159271129-143230.png', 'capture3255921129-143236.png', 'capture6816371129-143228.png', 'capture6246341129-143235.png', 'capture0055581129-143222.png', 'capture6323161129-143241.png', 'capture9440181129-143227.png', 'capture4377611129-143242.png', 'capture8563061129-143236.png', 'capture4009131129-143221.png', 'capture1858651129-143233.png', 'capture7228451129-143237.png', 'capture7059761129-143218.png', 'capture3309441129-143213.png', 'capture4902241129-143234.png', 'capture7940141129-143236.png', 'capture3609661129-143237.png', 'capture6355141129-143217.png', 'capture7808151129-143230.png', 'capture0536211129-143211.png', 'capture9072711129-143222.png', 'capture7777381129-143225.png', 'capture6566881129-143235.png', 'capture6211291129-143211.png', 'capture0877551129-143213.png', 'capture4250021129-143236.png', 'capture1199421129-143211.png', 'capture4003541129-143216.png', 'capture1193661129-143231.png', 'capture8369121129-143221.png', 'capture6287251129-143239.png', 'capture3189081129-143232.png', 'capture8871251129-143232.png', 'capture9289311129-143216.png', 'capture7890701129-143233.png', 'capture1679661129-143242.png', 'capture9679531129-143217.png', 'capture9940971129-143235.png', 'capture5251771129-143236.png', 'capture1350521129-143218.png', 'capture7685921129-143242.png', 'capture9579671129-143237.png', 'capture6852751129-143230.png', 'capture2343811129-143242.png', 'capture6342771129-143222.png', 'capture1129021129-143229.png', 'capture9508361129-143229.png', 'capture6676581129-143217.png', 'capture1411981129-143223.png', 'capture8314411129-143242.png', 'capture8687191129-143217.png', 'capture0050371129-143219.png', 'capture5008381129-143217.png', 'capture7283241129-143212.png', 'capture5598011129-143239.png', 'capture6626281129-143238.png', 'capture8888101129-143211.png', 'capture1112331129-143226.png', 'capture5306181129-143242.png', 'capture9868761129-143232.png', 'capture5246891129-143212.png', 'capture3934551129-143213.png', 'capture2036981129-143221.png', 'capture2445541129-143228.png', 'capture9645861129-143239.png', 'capture9843381129-143228.png', 'capture2676671129-143242.png', 'capture2231841129-143234.png', 'capture6734661129-143222.png', 'capture6714621129-143220.png', 'capture8095991129-143224.png', 'capture8077741129-143223.png', 'capture2249341129-143236.png', 'capture9194951129-143229.png', 'capture8569401129-143212.png', 'capture7882491129-143234.png', 'capture1724901129-143218.png', 'capture5077651129-143225.png', 'capture1215871129-143233.png', 'capture9548041129-143232.png', 'capture4265381129-143214.png', 'capture1683251129-143243.png', 'capture9410821129-143223.png', 'capture9649601129-143240.png', 'capture9875901129-143212.png', 'capture2037751129-143240.png', 'capture7940341129-143215.png', 'capture0221721129-143234.png', 'capture6188021129-143232.png', 'capture5856831129-143232.png', 'capture4840571129-143232.png', 'capture7217161129-143210.png', 'capture0929421129-143236.png', 'capture0988941129-143218.png', 'capture3530231129-143232.png', 'capture2323631129-143243.png', 'capture7190421129-143232.png', 'capture3624091129-143214.png', 'capture4959141129-143215.png', 'capture6992151129-143236.png', 'capture7235781129-143233.png', 'capture1307331129-143216.png', 'capture0275261129-143239.png', 'capture7839371129-143229.png', 'capture0071201129-143224.png', 'capture0707521129-143222.png', 'capture8693291129-143222.png', 'capture5470451129-143228.png', 'capture2052181129-143222.png', 'capture5056691129-143223.png', 'capture7971091129-143240.png', 'capture4698531129-143218.png', 'capture3051221129-143223.png', 'capture2166421129-143232.png', 'capture2876371129-143211.png', 'capture5783661129-143226.png', 'capture3122501129-143225.png', 'capture0763591129-143223.png', 'capture4515501129-143233.png', 'capture0027721129-143220.png', 'capture2475721129-143230.png', 'capture7038831129-143222.png', 'capture6385851129-143220.png', 'capture9408431129-143221.png', 'capture0507171129-143231.png', 'capture3279791129-143239.png', 'capture1786091129-143225.png', 'capture3750161129-143224.png', 'capture4082201129-143242.png', 'capture3028021129-143221.png', 'capture2304881129-143217.png', 'capture4481511129-143230.png', 'capture7603101129-143237.png', 'capture2639491129-143214.png', 'capture7523651129-143231.png', 'capture6713521129-143219.png', 'capture0893521129-143235.png', 'capture2702341129-143220.png', 'capture3663341129-143217.png', 'capture0217001129-143211.png', 'capture6487841129-143230.png', 'capture3232321129-143235.png', 'capture2410721129-143224.png', 'capture9907711129-143211.png', 'capture1855451129-143231.png', 'capture2416331129-143225.png', 'capture9668671129-143218.png', 'capture0958831129-143239.png', 'capture1637561129-143216.png', 'capture4608311129-143238.png', 'capture5950491129-143214.png', 'capture0091661129-143225.png', 'capture9296171129-143241.png', 'capture5521221129-143232.png', 'capture7699431129-143222.png', 'capture6885561129-143210.png', 'capture5398421129-143225.png', 'capture3959201129-143237.png', 'capture3099531129-143226.png', 'capture0672891129-143240.png', 'capture1404731129-143222.png', 'capture2725841129-143224.png', 'capture8824221129-143227.png', 'capture5862721129-143231.png', 'capture3776411129-143226.png', 'capture0483481129-143229.png', 'capture4036761129-143220.png', 'capture2885791129-143235.png', 'capture6522021129-143232.png', 'capture4262261129-143235.png', 'capture8730671129-143223.png', 'capture5700841129-143218.png', 'capture8314991129-143239.png', 'capture7546271129-143229.png', 'capture2089451129-143242.png', 'capture2346911129-143219.png', 'capture8231991129-143232.png', 'capture7700151129-143241.png', 'capture6194261129-143221.png', 'capture7698461129-143218.png', 'capture1304701129-143215.png', 'capture9240101129-143232.png', 'capture6765911129-143227.png', 'capture8128081129-143228.png', 'capture8605041129-143238.png', 'capture0348141129-143220.png', 'capture3821751129-143210.png', 'capture2289401129-143239.png', 'capture8975561129-143238.png', 'capture5543981129-143231.png', 'capture3371441129-143220.png', 'capture2967941129-143215.png', 'capture3843021129-143231.png', 'capture0410851129-143225.png', 'capture3919581129-143236.png', 'capture7361331129-143222.png', 'capture1632601129-143237.png', 'capture3563011129-143234.png', 'capture2820121129-143229.png', 'capture3013801129-143220.png', 'capture7669361129-143238.png', 'capture1916931129-143212.png', 'capture8928681129-143213.png', 'capture4478341129-143226.png', 'capture0930581129-143238.png', 'capture4066791129-143224.png', 'capture8947451129-143236.png', 'capture8577731129-143237.png', 'capture0864581129-143231.png', 'capture8068771129-143221.png', 'capture2986561129-143216.png', 'capture7544241129-143233.png', 'capture7107431129-143226.png', 'capture6078191129-143225.png', 'capture5553831129-143235.png', 'capture6137751129-143228.png', 'capture1632071129-143241.png', 'capture4322321129-143217.png', 'capture7089481129-143224.png', 'capture5170401129-143228.png', 'capture7424211129-143217.png', 'capture7874881129-143211.png', 'capture9250981129-143236.png', 'capture5941511129-143238.png', 'capture7566241129-143211.png', 'capture8976241129-143241.png', 'capture6827771129-143225.png', 'capture9325511129-143240.png', 'capture8225191129-143233.png', 'capture9097221129-143225.png', 'capture8833491129-143229.png', 'capture1248081129-143213.png', 'capture9021301129-143219.png', 'capture4277171129-143238.png', 'capture5838781129-143230.png', 'capture9285541129-143242.png', 'capture0868121129-143233.png', 'capture4411811129-143224.png', 'capture6179291129-143231.png', 'capture3789061129-143225.png', 'capture6318661129-143240.png', 'capture0307721129-143241.png', 'capture5314071129-143216.png', 'capture5571111129-143212.png', 'capture9240231129-143210.png', 'capture6265571129-143214.png', 'capture5998881129-143241.png', 'capture2527631129-143232.png', 'capture8676971129-143242.png', 'capture0620931129-143239.png', 'capture3604051129-143238.png', 'capture9700791129-143220.png', 'capture8640231129-143241.png', 'capture0810051129-143228.png', 'capture2955031129-143241.png', 'capture9164631129-143230.png', 'capture8205271129-143211.png', 'capture7934451129-143213.png', 'capture9124091129-143227.png', 'capture0852271129-143229.png', 'capture3058081129-143222.png', 'capture0640111129-143215.png', 'capture2217581129-143233.png', 'capture1438811129-143228.png', 'capture4139871129-143229.png', 'capture2510551129-143231.png', 'capture7163481129-143230.png', 'capture5617521129-143215.png', 'capture7060391129-143220.png', 'capture5960841129-143240.png', 'capture2253351129-143237.png', 'capture9035311129-143221.png', 'capture4225631129-143234.png', 'capture3944381129-143214.png', 'capture3305041129-143216.png', 'capture6290431129-143236.png', 'capture4185721129-143210.png', 'capture7968861129-143238.png', 'capture2873711129-143234.png', 'capture4851121129-143210.png', 'capture7569531129-143213.png', 'capture7824631129-143228.png', 'capture1314881129-143217.png', 'capture0859131129-143232.png', 'capture2608361129-143239.png', 'capture8296271129-143216.png', 'capture2960851129-143240.png', 'capture4738281129-143220.png', 'capture5992711129-143218.png', 'capture1530321129-143233.png', 'capture1803361129-143229.png', 'capture3982291129-143217.png', 'capture0702931129-143217.png', 'capture0554681129-143213.png', 'capture7443291129-143241.png', 'capture1266761129-143214.png', 'capture9593071129-143211.png', 'capture4536851129-143231.png', 'capture2422411129-143223.png', 'capture5747361129-143225.png', 'capture3351331129-143242.png', 'capture4203281129-143230.png', 'capture9967841129-143215.png', 'capture5377031129-143218.png', 'capture4164961129-143231.png', 'capture5828581129-143229.png', 'capture1477261129-143226.png', 'capture8262371129-143235.png', 'capture5314521129-143240.png', 'capture1499921129-143231.png', 'capture5454041129-143226.png', 'capture6876461129-143212.png', 'capture5992861129-143219.png', 'capture3662691129-143218.png', 'capture2885591129-143212.png', 'capture3396251129-143221.png']\n"
     ]
    }
   ],
   "source": [
    "dir_name = 'images_{}/'.format('takemoto')\n",
    "image_dirpath = os.path.abspath(image_dir_basepath + dir_name)\n",
    "image_filepaths = [os.path.join(image_dirpath, f) for f in os.listdir(image_dirpath) if not f == '.DS_Store']\n",
    "print([f for f in os.listdir(image_dirpath) if not f == '.DS_Store'])"
   ]
  },
  {
   "cell_type": "markdown",
   "metadata": {},
   "source": []
  },
  {
   "cell_type": "code",
   "execution_count": 22,
   "metadata": {
    "collapsed": false
   },
   "outputs": [
    {
     "name": "stdout",
     "output_type": "stream",
     "text": [
      "ndarray\n",
      "(160, 160, 3)\n"
     ]
    }
   ],
   "source": [
    "from PIL import Image\n",
    "\n",
    "# print(aligned)\n",
    "print(aligned.__class__.__name__)\n",
    "print(aligned.shape)\n",
    "img = Image.fromarray(np.uint8(aligned))\n",
    "img.save('edited_img.jpg')"
   ]
  },
  {
   "cell_type": "code",
   "execution_count": 31,
   "metadata": {
    "collapsed": false
   },
   "outputs": [
    {
     "name": "stdout",
     "output_type": "stream",
     "text": [
      "/Users/osuzuki/web_apps/deep_learning/team14/member_images/images_takemoto/hogehoge.png\n",
      "hogehoge.png\n"
     ]
    }
   ],
   "source": [
    "image_dirpath = os.path.abspath(image_dir_basepath + 'images_takemoto/hogehoge.png')\n",
    "# image_filepaths = [os.path.join(image_dirpath, f)  f for f in os.listdir(image_dirpath)]\n",
    "print(image_dirpath)\n",
    "file_name = os.path.basename(image_dirpath)\n",
    "print(file_name)"
   ]
  },
  {
   "cell_type": "code",
   "execution_count": null,
   "metadata": {
    "collapsed": true
   },
   "outputs": [],
   "source": []
  }
 ],
 "metadata": {
  "kernelspec": {
   "display_name": "Python 3",
   "language": "python",
   "name": "python3"
  },
  "language_info": {
   "codemirror_mode": {
    "name": "ipython",
    "version": 3
   },
   "file_extension": ".py",
   "mimetype": "text/x-python",
   "name": "python",
   "nbconvert_exporter": "python",
   "pygments_lexer": "ipython3",
   "version": "3.6.0"
  }
 },
 "nbformat": 4,
 "nbformat_minor": 2
}
